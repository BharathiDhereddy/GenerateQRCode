{
  "nbformat": 4,
  "nbformat_minor": 0,
  "metadata": {
    "colab": {
      "provenance": [],
      "authorship_tag": "ABX9TyOt5Y1F+f9KX/7Kx/GZDtrv",
      "include_colab_link": true
    },
    "kernelspec": {
      "name": "python3",
      "display_name": "Python 3"
    },
    "language_info": {
      "name": "python"
    }
  },
  "cells": [
    {
      "cell_type": "markdown",
      "metadata": {
        "id": "view-in-github",
        "colab_type": "text"
      },
      "source": [
        "<a href=\"https://colab.research.google.com/github/BharathiDhereddy/GenerateQRCode/blob/main/QR_Code_Scanner_Using_Python.ipynb\" target=\"_parent\"><img src=\"https://colab.research.google.com/assets/colab-badge.svg\" alt=\"Open In Colab\"/></a>"
      ]
    },
    {
      "cell_type": "markdown",
      "source": [
        "https://thecleverprogrammer.com/2021/01/09/qr-codes-with-python/"
      ],
      "metadata": {
        "id": "zP3yKGMQnvH2"
      }
    },
    {
      "cell_type": "code",
      "source": [
        "pip install pyqrcode"
      ],
      "metadata": {
        "colab": {
          "base_uri": "https://localhost:8080/"
        },
        "id": "DbAK9XZ3a1_3",
        "outputId": "4e4ab107-3f8f-45d3-94d6-4948ad8f259c"
      },
      "execution_count": 1,
      "outputs": [
        {
          "output_type": "stream",
          "name": "stdout",
          "text": [
            "Collecting pyqrcode\n",
            "  Downloading PyQRCode-1.2.1.zip (41 kB)\n",
            "\u001b[?25l     \u001b[90m━━━━━━━━━━━━━━━━━━━━━━━━━━━━━━━━━━━━━━━━\u001b[0m \u001b[32m0.0/41.9 kB\u001b[0m \u001b[31m?\u001b[0m eta \u001b[36m-:--:--\u001b[0m\r\u001b[2K     \u001b[90m━━━━━━━━━━━━━━━━━━━━━━━━━━━━━━━━━━━━━━━━\u001b[0m \u001b[32m41.9/41.9 kB\u001b[0m \u001b[31m1.5 MB/s\u001b[0m eta \u001b[36m0:00:00\u001b[0m\n",
            "\u001b[?25h  Preparing metadata (setup.py) ... \u001b[?25l\u001b[?25hdone\n",
            "Building wheels for collected packages: pyqrcode\n",
            "  Building wheel for pyqrcode (setup.py) ... \u001b[?25l\u001b[?25hdone\n",
            "  Created wheel for pyqrcode: filename=PyQRCode-1.2.1-py3-none-any.whl size=36221 sha256=402120b70e4ea50d8a3f6f0768b20635a446212d9fee05fe2a5194779383a984\n",
            "  Stored in directory: /root/.cache/pip/wheels/34/2d/20/082874e49a32cdcc87ebaf99dd0099fb7774ef30f010dfb6f2\n",
            "Successfully built pyqrcode\n",
            "Installing collected packages: pyqrcode\n",
            "Successfully installed pyqrcode-1.2.1\n"
          ]
        }
      ]
    },
    {
      "cell_type": "code",
      "execution_count": 2,
      "metadata": {
        "id": "4O3HEkgtao75"
      },
      "outputs": [],
      "source": [
        "import pyqrcode\n",
        "from pyqrcode import QRCode\n",
        "\n",
        "# String which represent the QR code\n",
        "s = \"https://www.youtube.com/channel/UCeO9hPCfRzqb2yTuAn713Mg\"\n",
        "\n",
        "# Generate QR code\n",
        "url = pyqrcode.create(s)\n",
        "\n",
        "# Create and save the png file naming \"myyoutube.svg\"\n",
        "url.svg(\"myyoutube.svg\", scale = 8)"
      ]
    },
    {
      "cell_type": "markdown",
      "source": [
        "Generate QR Code using qrcode in Python"
      ],
      "metadata": {
        "id": "UH0uB3rZmujK"
      }
    },
    {
      "cell_type": "markdown",
      "source": [
        "https://www.geeksforgeeks.org/generate-qr-code-using-qrcode-in-python/"
      ],
      "metadata": {
        "id": "swUnOcYCdgAA"
      }
    },
    {
      "cell_type": "code",
      "source": [
        "pip install pypng"
      ],
      "metadata": {
        "colab": {
          "base_uri": "https://localhost:8080/"
        },
        "id": "q8ap-u2Ob9Zr",
        "outputId": "f617b992-ae34-4f60-8b76-a2613b7cde09"
      },
      "execution_count": 3,
      "outputs": [
        {
          "output_type": "stream",
          "name": "stdout",
          "text": [
            "Collecting pypng\n",
            "  Downloading pypng-0.20220715.0-py3-none-any.whl (58 kB)\n",
            "\u001b[2K     \u001b[90m━━━━━━━━━━━━━━━━━━━━━━━━━━━━━━━━━━━━━━━━\u001b[0m \u001b[32m58.1/58.1 kB\u001b[0m \u001b[31m1.8 MB/s\u001b[0m eta \u001b[36m0:00:00\u001b[0m\n",
            "\u001b[?25hInstalling collected packages: pypng\n",
            "Successfully installed pypng-0.20220715.0\n"
          ]
        }
      ]
    },
    {
      "cell_type": "code",
      "source": [
        "# Import QRCode from pyqrcode\n",
        "import pyqrcode\n",
        "import png\n",
        "from pyqrcode import QRCode\n",
        "\n",
        "\n",
        "# String which represents the QR code\n",
        "s = \"www.geeksforgeeks.org\"\n",
        "\n",
        "# Generate QR code\n",
        "url = pyqrcode.create(s)\n",
        "\n",
        "# Create and save the svg file naming \"myqr.svg\"\n",
        "url.svg(\"myqr.svg\", scale = 8)\n",
        "\n",
        "# Create and save the png file naming \"myqr.png\"\n",
        "url.png('myqr.png', scale = 6)\n"
      ],
      "metadata": {
        "id": "jnmDXAw8cSMU"
      },
      "execution_count": 4,
      "outputs": []
    },
    {
      "cell_type": "markdown",
      "source": [
        "Reading the QR code"
      ],
      "metadata": {
        "id": "NE5b2zSwncIZ"
      }
    },
    {
      "cell_type": "markdown",
      "source": [
        "https://www.javatpoint.com/generate-a-qr-code-using-python"
      ],
      "metadata": {
        "id": "_AvHwjNxdbz3"
      }
    },
    {
      "cell_type": "code",
      "source": [
        "import cv2\n",
        "\n",
        "# reading the image\n",
        "qr_img = cv2.imread(\"myqr.png\")\n",
        "# using the QRCodeDetector() function\n",
        "qr_det = cv2.QRCodeDetector()\n",
        "# using the detectAndDecode() function\n",
        "val, pts, st_code = qr_det.detectAndDecode(qr_img)\n",
        "# printing the value\n",
        "print(\"Information:\", val)"
      ],
      "metadata": {
        "colab": {
          "base_uri": "https://localhost:8080/"
        },
        "id": "ciTkytHKc-Ub",
        "outputId": "f018e93b-2501-4cc0-e808-c440eeb769a1"
      },
      "execution_count": 5,
      "outputs": [
        {
          "output_type": "stream",
          "name": "stdout",
          "text": [
            "Information: www.geeksforgeeks.org\n"
          ]
        }
      ]
    }
  ]
}